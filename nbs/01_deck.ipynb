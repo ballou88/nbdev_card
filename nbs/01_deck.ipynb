{
 "cells": [
  {
   "cell_type": "code",
   "execution_count": 1,
   "id": "d0d71d52-db14-48dc-b1e3-6e8f42e6b927",
   "metadata": {},
   "outputs": [],
   "source": [
    "#| default_exp deck"
   ]
  },
  {
   "cell_type": "markdown",
   "id": "7a29c445-fc20-4824-8e8a-ef9e8fc0a43d",
   "metadata": {},
   "source": [
    "# Deck\n",
    "\n",
    "> A simple deck of playing cards"
   ]
  },
  {
   "cell_type": "code",
   "execution_count": 2,
   "id": "d822c33f-eade-4eee-aa12-b6d82ebf651c",
   "metadata": {},
   "outputs": [
    {
     "ename": "NameError",
     "evalue": "name 'patch' is not defined",
     "output_type": "error",
     "traceback": [
      "\u001b[31m---------------------------------------------------------------------------\u001b[39m",
      "\u001b[31mNameError\u001b[39m                                 Traceback (most recent call last)",
      "\u001b[36mCell\u001b[39m\u001b[36m \u001b[39m\u001b[32mIn[2]\u001b[39m\u001b[32m, line 2\u001b[39m\n\u001b[32m      1\u001b[39m \u001b[38;5;66;03m#! export\u001b[39;00m\n\u001b[32m----> \u001b[39m\u001b[32m2\u001b[39m \u001b[38;5;28;01mfrom\u001b[39;00m\u001b[38;5;250m \u001b[39m\u001b[34;01mnbdev_card\u001b[39;00m\u001b[34;01m.\u001b[39;00m\u001b[34;01mcard\u001b[39;00m\u001b[38;5;250m \u001b[39m\u001b[38;5;28;01mimport\u001b[39;00m *\n\u001b[32m      3\u001b[39m \u001b[38;5;28;01mfrom\u001b[39;00m\u001b[38;5;250m \u001b[39m\u001b[34;01mfastcore\u001b[39;00m\u001b[34;01m.\u001b[39;00m\u001b[34;01mutils\u001b[39;00m\u001b[38;5;250m \u001b[39m\u001b[38;5;28;01mimport\u001b[39;00m *\n\u001b[32m      4\u001b[39m \u001b[38;5;28;01mimport\u001b[39;00m\u001b[38;5;250m \u001b[39m\u001b[34;01mrandom\u001b[39;00m\n",
      "\u001b[36mFile \u001b[39m\u001b[32m~/projects/nbdev_card/nbdev_card/card.py:25\u001b[39m\n\u001b[32m     21\u001b[39m     \u001b[34m__repr__\u001b[39m = \u001b[34m__str__\u001b[39m\n\u001b[32m     24\u001b[39m \u001b[38;5;66;03m# %% ../nbs/00_card.ipynb 18\u001b[39;00m\n\u001b[32m---> \u001b[39m\u001b[32m25\u001b[39m \u001b[38;5;129m@patch\u001b[39m\n\u001b[32m     26\u001b[39m \u001b[38;5;28;01mdef\u001b[39;00m\u001b[38;5;250m \u001b[39m\u001b[34m__eq__\u001b[39m(\u001b[38;5;28mself\u001b[39m:Card, a:Card): \u001b[38;5;28;01mreturn\u001b[39;00m (\u001b[38;5;28mself\u001b[39m.suit, \u001b[38;5;28mself\u001b[39m.rank) == (a.suit, a.rank)\n\u001b[32m     28\u001b[39m \u001b[38;5;66;03m# %% ../nbs/00_card.ipynb 20\u001b[39;00m\n",
      "\u001b[31mNameError\u001b[39m: name 'patch' is not defined"
     ]
    }
   ],
   "source": [
    "#! export\n",
    "from nbdev_card.card import *\n",
    "from fastcore.utils import *\n",
    "import random"
   ]
  },
  {
   "cell_type": "code",
   "execution_count": null,
   "id": "f1efeef1-a7aa-48c2-a037-7daf68b8b181",
   "metadata": {},
   "outputs": [],
   "source": [
    "#| hide\n",
    "from nbdev.showdoc import *\n",
    "from fastcore.test import *\n"
   ]
  },
  {
   "cell_type": "code",
   "execution_count": null,
   "id": "92f4bdaa-c1c0-4903-a0c5-925dd6615757",
   "metadata": {},
   "outputs": [],
   "source": [
    "#| export\n",
    "class Deck:\n",
    "    \"A deck of 52 cars, not including jokers\"\n",
    "    def __init__(self): self.cards = [Card(s, r) for s in range(4) for r in range(1,14)]\n",
    "    def __len__(self): return len(self.cards)\n",
    "    def __str__(self): return '; '.join(map(str, self.cards))\n",
    "    def __contains__(self, card): return card in self.cards\n",
    "    __repr__=__str__\n",
    "    def shuffle(self):\n",
    "        \"Shuffles the cards in this deck\"\n",
    "        random.shuffle(self.cards)"
   ]
  },
  {
   "cell_type": "code",
   "execution_count": null,
   "id": "2531098d-fbc0-4653-a20c-dfdf0fa4c935",
   "metadata": {},
   "outputs": [],
   "source": [
    "deck = Deck()\n",
    "deck"
   ]
  },
  {
   "cell_type": "markdown",
   "id": "3856ec1b-9d3e-4b46-8e3e-502a4730f387",
   "metadata": {},
   "source": [
    "That should be 52 cards."
   ]
  },
  {
   "cell_type": "code",
   "execution_count": null,
   "id": "399ba481-a220-4c2f-b516-57c43b944732",
   "metadata": {},
   "outputs": [],
   "source": [
    "test_eq(len(deck), 52)"
   ]
  },
  {
   "cell_type": "markdown",
   "id": "e2b1d1c5-da05-4340-b96b-8ae24f9cf270",
   "metadata": {},
   "source": [
    "As a reminder, these are the suits we defined for a `Card`"
   ]
  },
  {
   "cell_type": "code",
   "execution_count": null,
   "id": "844bc7e2-3b1c-4129-96ce-17cec288a37c",
   "metadata": {},
   "outputs": [],
   "source": [
    "suits"
   ]
  },
  {
   "cell_type": "markdown",
   "id": "03ec5113-4c9c-4ab5-9961-4dce170338d8",
   "metadata": {},
   "source": [
    "We can check if a card is in the deck.  In this case we check for the Ace of Clubs"
   ]
  },
  {
   "cell_type": "code",
   "execution_count": null,
   "id": "52ee0a5a-e014-41e3-90c6-3f4156d8bf10",
   "metadata": {},
   "outputs": [],
   "source": [
    "Card(1,1) in deck"
   ]
  },
  {
   "cell_type": "code",
   "execution_count": null,
   "id": "1b4677c0-e454-4e28-9814-4184f55ce19c",
   "metadata": {},
   "outputs": [],
   "source": [
    "#| export\n",
    "@patch\n",
    "def pop(self:Deck, \n",
    "        idx:int=-1): # The index of the card to remove, defaults to the last one\n",
    "    \"Remove and return one card from the deck\"\n",
    "    return self.cards.pop(idx)"
   ]
  },
  {
   "cell_type": "code",
   "execution_count": null,
   "id": "8040b2fd-127f-4948-812c-d2febfb7dd36",
   "metadata": {},
   "outputs": [],
   "source": [
    "deck = Deck()\n",
    "test_eq(deck.pop(), Card(3,13)) # K♠️"
   ]
  },
  {
   "cell_type": "markdown",
   "id": "f86a1709-15ff-4f05-82d9-21399120487d",
   "metadata": {},
   "source": [
    "There are 51 cards left in the deck now."
   ]
  },
  {
   "cell_type": "code",
   "execution_count": null,
   "id": "45a50b9a-92bb-4216-b8eb-9717d7ffbdae",
   "metadata": {},
   "outputs": [],
   "source": [
    "test_eq(len(deck), 51)"
   ]
  },
  {
   "cell_type": "code",
   "execution_count": null,
   "id": "c6fc199b-b3ce-4bfa-a589-c410e8b29dc9",
   "metadata": {},
   "outputs": [],
   "source": [
    "#| export\n",
    "@patch\n",
    "def remove(self:Deck, \n",
    "           card:Card): # Card to remove\n",
    "    \"Removes `card` from the deck or raises exception if it is not there\"\n",
    "    self.cards.remove(card)"
   ]
  },
  {
   "cell_type": "code",
   "execution_count": null,
   "id": "60bd2582-3337-44b8-8e69-f0f51ba74b2d",
   "metadata": {},
   "outputs": [],
   "source": [
    "card23 = Card(2,3)\n",
    "deck.remove(card23)\n",
    "\n",
    "assert card23 not in deck"
   ]
  },
  {
   "cell_type": "code",
   "execution_count": null,
   "id": "55db4431-1de5-4d7b-a1df-73ec11d79153",
   "metadata": {},
   "outputs": [],
   "source": [
    "show_doc(Deck.shuffle)"
   ]
  },
  {
   "cell_type": "code",
   "execution_count": null,
   "id": "04e9584c-fdda-492f-8e03-a280a8b4f428",
   "metadata": {},
   "outputs": [],
   "source": [
    "#| export\n",
    "def draw_n(n:int, # number of cards to draw\n",
    "           replace:bool=True): # whether or not draw with replacement\n",
    "    \"Draw `n` cards, with replacement if `replace`\"\n",
    "    d = Deck()\n",
    "    d.shuffle()\n",
    "    if replace: return [d.cards[random.choice(range(len(d.cards)))] for _ in range(n)]\n",
    "    else: return d.cards[:n]"
   ]
  },
  {
   "cell_type": "code",
   "execution_count": null,
   "id": "230fe8b5-c210-4265-9924-1b648f6736a7",
   "metadata": {},
   "outputs": [],
   "source": [
    "draw_n(13, replace=False)"
   ]
  }
 ],
 "metadata": {
  "kernelspec": {
   "display_name": "Python 3 (ipykernel)",
   "language": "python",
   "name": "python3"
  },
  "language_info": {
   "codemirror_mode": {
    "name": "ipython",
    "version": 3
   },
   "file_extension": ".py",
   "mimetype": "text/x-python",
   "name": "python",
   "nbconvert_exporter": "python",
   "pygments_lexer": "ipython3",
   "version": "3.12.11"
  }
 },
 "nbformat": 4,
 "nbformat_minor": 5
}
